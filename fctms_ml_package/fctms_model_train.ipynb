{
 "cells": [
  {
   "cell_type": "code",
   "execution_count": 25,
   "id": "48ef6fef-3ee7-4b0e-b0e6-e946f852c469",
   "metadata": {},
   "outputs": [],
   "source": [
    "import pandas as pd\n",
    "from sklearn.ensemble import RandomForestClassifier\n",
    "from sklearn.model_selection import train_test_split\n",
    "from sklearn.metrics import accuracy_score\n",
    "from sklearn.preprocessing import LabelEncoder, StandardScaler\n",
    "import matplotlib.pyplot as plt\n",
    "import joblib"
   ]
  },
  {
   "cell_type": "code",
   "execution_count": 27,
   "id": "10f39155-1919-4e69-90e9-de7c7486e7ac",
   "metadata": {},
   "outputs": [],
   "source": [
    "# Load dataset\n",
    "df = pd.read_csv(\"C:/Users/Victus/Desktop/Project Self Learn/data/fctms_final_dataset.csv\")"
   ]
  },
  {
   "cell_type": "code",
   "execution_count": 28,
   "id": "acf2f80d-de28-4ed2-a6d3-5e07dbcf3d8c",
   "metadata": {},
   "outputs": [],
   "source": [
    "# Create simplified target label\n",
    "experience_map = {1: \"Beginner\", 2: \"Intermediate\", 3: \"Advanced\"}\n",
    "df[\"Experience_Level_Label\"] = df[\"Experience_Level\"].map(experience_map)\n",
    "df[\"Workout_Label\"] = df[\"Experience_Level_Label\"] + \" \" + df[\"Type_of_Exercise\"]"
   ]
  },
  {
   "cell_type": "code",
   "execution_count": 29,
   "id": "227ac7d6-ce5c-42bd-955e-da22877554e2",
   "metadata": {},
   "outputs": [],
   "source": [
    "# Encode categorical features\n",
    "label_encoders = {}\n",
    "categorical_cols = [\"Gender\", \"Type_of_Exercise\", \"Age_Group\", \"Workout_Label\"]\n",
    "for col in categorical_cols:\n",
    "    le = LabelEncoder()\n",
    "    df[col + \"_Encoded\"] = le.fit_transform(df[col])\n",
    "    label_encoders[col] = le"
   ]
  },
  {
   "cell_type": "code",
   "execution_count": 36,
   "id": "61ed6c9d-d421-4841-b2ca-33504472ee2c",
   "metadata": {},
   "outputs": [],
   "source": [
    "# Reduce the influence of Type_of_Exercise_Encoded\n",
    "df[\"Type_of_Exercise_Weighted\"] = df[\"Type_of_Exercise_Encoded\"] * 0.2\n",
    "\n",
    "# Define features and target\n",
    "features = [\n",
    "    \"Age\", \"Gender_Encoded\", \"BMI\", \"Fat_Percentage\",\n",
    "    \"Session_Duration_Minutes\", \"Workout_Frequency (days/week)\",\n",
    "    \"Experience_Level\", \"Type_of_Exercise_Weighted\", \"Age_Group_Encoded\"\n",
    "]\n",
    "\n",
    "X = df[features]\n",
    "y = df[\"Workout_Label_Encoded\"]"
   ]
  },
  {
   "cell_type": "code",
   "execution_count": 37,
   "id": "ad75feb6-a6a9-4bc3-b410-1a4dd2af3198",
   "metadata": {},
   "outputs": [],
   "source": [
    "# Normalize features\n",
    "scaler = StandardScaler()\n",
    "X_scaled = scaler.fit_transform(X)\n",
    "\n",
    "# Train-test split\n",
    "X_train, X_test, y_train, y_test = train_test_split(\n",
    "    X_scaled, y, test_size=0.2, random_state=42, stratify=y\n",
    ")\n",
    "\n",
    "# Train RandomForest model\n",
    "model = RandomForestClassifier(n_estimators=100, random_state=42)\n",
    "model.fit(X_train, y_train)\n",
    "y_pred = model.predict(X_test)\n",
    "accuracy = accuracy_score(y_test, y_pred)"
   ]
  },
  {
   "cell_type": "code",
   "execution_count": 38,
   "id": "f3e03224-733d-4e3f-9f8b-3e83af1b609d",
   "metadata": {},
   "outputs": [
    {
     "name": "stdout",
     "output_type": "stream",
     "text": [
      "Model Accuracy: 1.0\n"
     ]
    }
   ],
   "source": [
    "# Save artifacts\n",
    "joblib.dump(model, \"fctms_rf_model.pkl\")\n",
    "joblib.dump(label_encoders, \"fctms_label_encoders.pkl\")\n",
    "joblib.dump(scaler, \"fctms_scaler.pkl\")\n",
    "\n",
    "# Plot and save accuracy\n",
    "plt.figure(figsize=(5, 4))\n",
    "plt.bar([\"RandomForest\"], [accuracy])\n",
    "plt.title(\"Final Model Accuracy (Simplified Labels)\")\n",
    "plt.ylabel(\"Accuracy\")\n",
    "plt.ylim(0, 1)\n",
    "plt.tight_layout()\n",
    "plt.savefig(\"model_accuracy_plot.png\")\n",
    "plt.close()\n",
    "\n",
    "print(\"Model Accuracy:\", accuracy)"
   ]
  },
  {
   "cell_type": "code",
   "execution_count": null,
   "id": "5db01e26-8210-4e67-8ce6-ffb1ea1f112c",
   "metadata": {},
   "outputs": [],
   "source": []
  }
 ],
 "metadata": {
  "kernelspec": {
   "display_name": "Python 3 (ipykernel)",
   "language": "python",
   "name": "python3"
  },
  "language_info": {
   "codemirror_mode": {
    "name": "ipython",
    "version": 3
   },
   "file_extension": ".py",
   "mimetype": "text/x-python",
   "name": "python",
   "nbconvert_exporter": "python",
   "pygments_lexer": "ipython3",
   "version": "3.12.3"
  }
 },
 "nbformat": 4,
 "nbformat_minor": 5
}
